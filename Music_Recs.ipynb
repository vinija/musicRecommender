{
  "nbformat": 4,
  "nbformat_minor": 0,
  "metadata": {
    "colab": {
      "name": "Music_Recs.ipynb",
      "provenance": [],
      "collapsed_sections": [],
      "include_colab_link": true
    },
    "kernelspec": {
      "display_name": "Python 3",
      "name": "python3"
    }
  },
  "cells": [
    {
      "cell_type": "markdown",
      "metadata": {
        "id": "view-in-github",
        "colab_type": "text"
      },
      "source": [
        "<a href=\"https://colab.research.google.com/github/vinija/musicRecommender/blob/main/Music_Recs.ipynb\" target=\"_parent\"><img src=\"https://colab.research.google.com/assets/colab-badge.svg\" alt=\"Open In Colab\"/></a>"
      ]
    },
    {
      "cell_type": "markdown",
      "metadata": {
        "id": "uixRc0XtrHuj"
      },
      "source": [
        "# **WELCOME TO THIS NOTEBOOK**"
      ]
    },
    {
      "cell_type": "code",
      "source": [
        "from google.colab import drive\n",
        "drive.mount('/content/drive')"
      ],
      "metadata": {
        "colab": {
          "base_uri": "https://localhost:8080/"
        },
        "id": "h5JHtaRlpGiE",
        "outputId": "66278398-3733-42f4-a207-6cfafd10d40c"
      },
      "execution_count": 2,
      "outputs": [
        {
          "output_type": "stream",
          "name": "stdout",
          "text": [
            "Mounted at /content/drive\n"
          ]
        }
      ]
    },
    {
      "cell_type": "markdown",
      "metadata": {
        "id": "hMZ64UxxrMvL"
      },
      "source": [
        "Let's install pyspark"
      ]
    },
    {
      "cell_type": "code",
      "metadata": {
        "id": "Dal3Np2Imn8u",
        "colab": {
          "base_uri": "https://localhost:8080/"
        },
        "outputId": "d1668291-d097-4b3e-ec40-2bab2d3da233"
      },
      "source": [
        "!pip install pyspark"
      ],
      "execution_count": 3,
      "outputs": [
        {
          "output_type": "stream",
          "name": "stdout",
          "text": [
            "Looking in indexes: https://pypi.org/simple, https://us-python.pkg.dev/colab-wheels/public/simple/\n",
            "Collecting pyspark\n",
            "  Downloading pyspark-3.3.0.tar.gz (281.3 MB)\n",
            "\u001b[K     |████████████████████████████████| 281.3 MB 46 kB/s \n",
            "\u001b[?25hCollecting py4j==0.10.9.5\n",
            "  Downloading py4j-0.10.9.5-py2.py3-none-any.whl (199 kB)\n",
            "\u001b[K     |████████████████████████████████| 199 kB 61.3 MB/s \n",
            "\u001b[?25hBuilding wheels for collected packages: pyspark\n",
            "  Building wheel for pyspark (setup.py) ... \u001b[?25l\u001b[?25hdone\n",
            "  Created wheel for pyspark: filename=pyspark-3.3.0-py2.py3-none-any.whl size=281764026 sha256=93144aad0273809b478c63cdcf9c1979c5b8ea7f8100b2912f1af826d13ca549\n",
            "  Stored in directory: /root/.cache/pip/wheels/7a/8e/1b/f73a52650d2e5f337708d9f6a1750d451a7349a867f928b885\n",
            "Successfully built pyspark\n",
            "Installing collected packages: py4j, pyspark\n",
            "Successfully installed py4j-0.10.9.5 pyspark-3.3.0\n"
          ]
        }
      ]
    },
    {
      "cell_type": "markdown",
      "metadata": {
        "id": "eK9D-CNgru_s"
      },
      "source": [
        "Importing the modules"
      ]
    },
    {
      "cell_type": "code",
      "metadata": {
        "id": "Z_cmzia9nA1W"
      },
      "source": [
        "from pyspark.sql import SparkSession\n",
        "from pyspark.sql.functions import count, desc , col, max\n",
        "from pyspark.ml.feature import  StringIndexer\n",
        "from pyspark.ml import Pipeline\n",
        "from pyspark.ml.recommendation import ALS\n",
        "from pyspark.ml.tuning import TrainValidationSplit, ParamGridBuilder"
      ],
      "execution_count": 4,
      "outputs": []
    },
    {
      "cell_type": "markdown",
      "metadata": {
        "id": "pjM5P6b0rVpH"
      },
      "source": [
        "Creating the spark session\n"
      ]
    },
    {
      "cell_type": "code",
      "metadata": {
        "id": "gvSzI0zMn4Hk"
      },
      "source": [
        "spark = SparkSession.builder.appName(\"lastfm\").getOrCreate()"
      ],
      "execution_count": 5,
      "outputs": []
    },
    {
      "cell_type": "markdown",
      "metadata": {
        "id": "KnyYdMVmnkp5"
      },
      "source": [
        "# Loading the dataset"
      ]
    },
    {
      "cell_type": "code",
      "metadata": {
        "id": "PywJeVgDngVd",
        "colab": {
          "base_uri": "https://localhost:8080/"
        },
        "outputId": "974c4eaa-7bf8-438a-a935-849119785773"
      },
      "source": [
        "file_path = '/content/drive/MyDrive/dataset/dataset/dataset/listenings.csv'\n",
        "df_listenings = spark.read.format('csv').option('header',True).option('inferSchema',True).load(file_path) #data frame, header will infer column types from csv\n",
        "df_listenings.show()"
      ],
      "execution_count": 6,
      "outputs": [
        {
          "output_type": "stream",
          "name": "stdout",
          "text": [
            "+-----------+-------------+--------------------+---------------+--------------------+\n",
            "|    user_id|         date|               track|         artist|               album|\n",
            "+-----------+-------------+--------------------+---------------+--------------------+\n",
            "|000Silenced|1299680100000|           Price Tag|       Jessie J|         Who You Are|\n",
            "|000Silenced|1299679920000|Price Tag (Acoust...|       Jessie J|           Price Tag|\n",
            "|000Silenced|1299679440000|Be Mine! (Ballad ...|          Robyn|            Be Mine!|\n",
            "|000Silenced|1299679200000|            Acapella|          Kelis|            Acapella|\n",
            "|000Silenced|1299675660000|   I'm Not Invisible|      The Tease|   I'm Not Invisible|\n",
            "|000Silenced|1297511400000|Bounce (Feat NORE...|       MSTRKRFT|         Fist of God|\n",
            "|000Silenced|1294498440000|Don't Stop The Mu...|        Rihanna|Addicted 2 Bassli...|\n",
            "|000Silenced|1292438340000|               ObZen|      Meshuggah|               ObZen|\n",
            "|000Silenced|1292437740000|   Yama's Messengers|         Gojira|The Way of All Flesh|\n",
            "|000Silenced|1292436360000|On the Brink of E...|   Napalm Death|Time Waits For No...|\n",
            "|000Silenced|1292436360000|On the Brink of E...|   Napalm Death|Time Waits For No...|\n",
            "|000Silenced|1292435940000|        In Deference|   Napalm Death|      Smear Campaign|\n",
            "|000Silenced|1292434920000|      Post(?)organic|    Decapitated|Organic Hallucinosis|\n",
            "|000Silenced|1292434560000|        Mind Feeders|   Dom & Roland| No Strings Attached|\n",
            "|000Silenced|1292434320000|Necrosadistic War...|Cannibal Corpse|                Kill|\n",
            "|000Silenced|1292365560000|     Dance All Night|   Dom & Roland|          Chronology|\n",
            "|000Silenced|1292365260000|          Late Night|   Dom & Roland|          Chronology|\n",
            "|000Silenced|1292365020000|          Freak Seen|   Dom & Roland|          Chronology|\n",
            "|000Silenced|1292364720000|Paradrenasite (Hi...|   Dom & Roland|          Chronology|\n",
            "|000Silenced|1292364300000|               Rhino|   Dom & Roland|          Chronology|\n",
            "+-----------+-------------+--------------------+---------------+--------------------+\n",
            "only showing top 20 rows\n",
            "\n"
          ]
        }
      ]
    },
    {
      "cell_type": "markdown",
      "metadata": {
        "id": "YUHBP0yjoJvc"
      },
      "source": [
        "\n",
        "# Cleaning tables "
      ]
    },
    {
      "cell_type": "code",
      "metadata": {
        "id": "N8luDo3HndTb",
        "colab": {
          "base_uri": "https://localhost:8080/"
        },
        "outputId": "e78edb23-5f37-4467-956b-bbf05d703950"
      },
      "source": [
        "df_listenings = df_listenings.drop('date')#drop date and time col from data frame\n",
        "df_listenings.show() #has information about each user, which track, artist and album they listened to"
      ],
      "execution_count": 7,
      "outputs": [
        {
          "output_type": "stream",
          "name": "stdout",
          "text": [
            "+-----------+--------------------+---------------+--------------------+\n",
            "|    user_id|               track|         artist|               album|\n",
            "+-----------+--------------------+---------------+--------------------+\n",
            "|000Silenced|           Price Tag|       Jessie J|         Who You Are|\n",
            "|000Silenced|Price Tag (Acoust...|       Jessie J|           Price Tag|\n",
            "|000Silenced|Be Mine! (Ballad ...|          Robyn|            Be Mine!|\n",
            "|000Silenced|            Acapella|          Kelis|            Acapella|\n",
            "|000Silenced|   I'm Not Invisible|      The Tease|   I'm Not Invisible|\n",
            "|000Silenced|Bounce (Feat NORE...|       MSTRKRFT|         Fist of God|\n",
            "|000Silenced|Don't Stop The Mu...|        Rihanna|Addicted 2 Bassli...|\n",
            "|000Silenced|               ObZen|      Meshuggah|               ObZen|\n",
            "|000Silenced|   Yama's Messengers|         Gojira|The Way of All Flesh|\n",
            "|000Silenced|On the Brink of E...|   Napalm Death|Time Waits For No...|\n",
            "|000Silenced|On the Brink of E...|   Napalm Death|Time Waits For No...|\n",
            "|000Silenced|        In Deference|   Napalm Death|      Smear Campaign|\n",
            "|000Silenced|      Post(?)organic|    Decapitated|Organic Hallucinosis|\n",
            "|000Silenced|        Mind Feeders|   Dom & Roland| No Strings Attached|\n",
            "|000Silenced|Necrosadistic War...|Cannibal Corpse|                Kill|\n",
            "|000Silenced|     Dance All Night|   Dom & Roland|          Chronology|\n",
            "|000Silenced|          Late Night|   Dom & Roland|          Chronology|\n",
            "|000Silenced|          Freak Seen|   Dom & Roland|          Chronology|\n",
            "|000Silenced|Paradrenasite (Hi...|   Dom & Roland|          Chronology|\n",
            "|000Silenced|               Rhino|   Dom & Roland|          Chronology|\n",
            "+-----------+--------------------+---------------+--------------------+\n",
            "only showing top 20 rows\n",
            "\n"
          ]
        }
      ]
    },
    {
      "cell_type": "code",
      "metadata": {
        "id": "5rDadwmpowII",
        "colab": {
          "base_uri": "https://localhost:8080/"
        },
        "outputId": "e77f4d74-86a4-49ff-ca7c-5ac6821f8806"
      },
      "source": [
        "df_listenings = df_listenings.na.drop() # removes null values in the row\n",
        "df_listenings.show() "
      ],
      "execution_count": 8,
      "outputs": [
        {
          "output_type": "stream",
          "name": "stdout",
          "text": [
            "+-----------+--------------------+---------------+--------------------+\n",
            "|    user_id|               track|         artist|               album|\n",
            "+-----------+--------------------+---------------+--------------------+\n",
            "|000Silenced|           Price Tag|       Jessie J|         Who You Are|\n",
            "|000Silenced|Price Tag (Acoust...|       Jessie J|           Price Tag|\n",
            "|000Silenced|Be Mine! (Ballad ...|          Robyn|            Be Mine!|\n",
            "|000Silenced|            Acapella|          Kelis|            Acapella|\n",
            "|000Silenced|   I'm Not Invisible|      The Tease|   I'm Not Invisible|\n",
            "|000Silenced|Bounce (Feat NORE...|       MSTRKRFT|         Fist of God|\n",
            "|000Silenced|Don't Stop The Mu...|        Rihanna|Addicted 2 Bassli...|\n",
            "|000Silenced|               ObZen|      Meshuggah|               ObZen|\n",
            "|000Silenced|   Yama's Messengers|         Gojira|The Way of All Flesh|\n",
            "|000Silenced|On the Brink of E...|   Napalm Death|Time Waits For No...|\n",
            "|000Silenced|On the Brink of E...|   Napalm Death|Time Waits For No...|\n",
            "|000Silenced|        In Deference|   Napalm Death|      Smear Campaign|\n",
            "|000Silenced|      Post(?)organic|    Decapitated|Organic Hallucinosis|\n",
            "|000Silenced|        Mind Feeders|   Dom & Roland| No Strings Attached|\n",
            "|000Silenced|Necrosadistic War...|Cannibal Corpse|                Kill|\n",
            "|000Silenced|     Dance All Night|   Dom & Roland|          Chronology|\n",
            "|000Silenced|          Late Night|   Dom & Roland|          Chronology|\n",
            "|000Silenced|          Freak Seen|   Dom & Roland|          Chronology|\n",
            "|000Silenced|Paradrenasite (Hi...|   Dom & Roland|          Chronology|\n",
            "|000Silenced|               Rhino|   Dom & Roland|          Chronology|\n",
            "+-----------+--------------------+---------------+--------------------+\n",
            "only showing top 20 rows\n",
            "\n"
          ]
        }
      ]
    },
    {
      "cell_type": "code",
      "metadata": {
        "id": "UZr0ZxOVIYr9",
        "outputId": "5c72ea11-b8e7-41bf-9fc4-fb74d0eba85c",
        "colab": {
          "base_uri": "https://localhost:8080/"
        }
      },
      "source": [
        "rows = df_listenings.count()\n",
        "cols = len(df_listenings.columns)\n",
        "print(rows,cols)"
      ],
      "execution_count": 9,
      "outputs": [
        {
          "output_type": "stream",
          "name": "stdout",
          "text": [
            "13758905 4\n"
          ]
        }
      ]
    },
    {
      "cell_type": "markdown",
      "metadata": {
        "id": "cyf1XITGpMWV"
      },
      "source": [
        "\n",
        "# Let's Perform some aggregation\n",
        "to see how many times each user has listened to specific track\n"
      ]
    },
    {
      "cell_type": "code",
      "metadata": {
        "id": "PeH7vYKEoyWa",
        "colab": {
          "base_uri": "https://localhost:8080/"
        },
        "outputId": "c2315bb7-6e5a-46a9-efde-d86efcab8d0a"
      },
      "source": [
        "#in order to make a model, we need to know how many times a user has listened to each song\n",
        "df_listenings_agg = df_listenings.select('user_id', 'track').groupby('user_id', 'track').agg(count('*').alias('count')).orderBy('user_id')\n",
        "df_listenings_agg.show()"
      ],
      "execution_count": 10,
      "outputs": [
        {
          "output_type": "stream",
          "name": "stdout",
          "text": [
            "+-------+--------------------+-----+\n",
            "|user_id|               track|count|\n",
            "+-------+--------------------+-----+\n",
            "| --Seph|               Leloo|    1|\n",
            "| --Seph|         The Embrace|    1|\n",
            "| --Seph|          Paris 2004|    7|\n",
            "| --Seph|Chelsea Hotel - L...|    1|\n",
            "| --Seph|               Julia|    1|\n",
            "| --Seph|In the Nothing of...|    2|\n",
            "| --Seph|          I Miss You|    1|\n",
            "| --Seph| The Riders of Rohan|    1|\n",
            "| --Seph|Sunset Soon Forgo...|    1|\n",
            "| --Seph|   Barbados Carnival|    1|\n",
            "| --Seph|      Fragile Meadow|    1|\n",
            "| --Seph|          Stupid Kid|    1|\n",
            "| --Seph|Every Direction I...|    2|\n",
            "| --Seph|         If It Works|    1|\n",
            "| --Seph|           So Lonely|    2|\n",
            "| --Seph|    Kiss with a Fist|    1|\n",
            "| --Seph|             Starman|    2|\n",
            "| --Seph|         Left Behind|    2|\n",
            "| --Seph|   Duel of the Fates|    1|\n",
            "| --Seph|       Pressure Drop|    1|\n",
            "+-------+--------------------+-----+\n",
            "only showing top 20 rows\n",
            "\n"
          ]
        }
      ]
    },
    {
      "cell_type": "code",
      "metadata": {
        "id": "RhVz-SvapIyr",
        "outputId": "573caa59-be29-4023-8c4c-8da595ff5990",
        "colab": {
          "base_uri": "https://localhost:8080/"
        }
      },
      "source": [
        "row = df_listenings_agg.count()\n",
        "col = len(df_listenings_agg.columns)\n",
        "print(row,col)"
      ],
      "execution_count": 11,
      "outputs": [
        {
          "output_type": "stream",
          "name": "stdout",
          "text": [
            "9930128 3\n"
          ]
        }
      ]
    },
    {
      "cell_type": "code",
      "source": [
        "#we want to decrement our row size, its almost 10 million, lets reduce it inorder to process our data much faster\n",
        "df_listenings_agg = df_listenings_agg.limit(20000)\n"
      ],
      "metadata": {
        "id": "GNJjYNL1NFL9"
      },
      "execution_count": 12,
      "outputs": []
    },
    {
      "cell_type": "markdown",
      "metadata": {
        "id": "vuebvg7UqzsO"
      },
      "source": [
        "# Let's convert the user id and track columns into unique integers\n",
        "\n",
        "\n"
      ]
    },
    {
      "cell_type": "code",
      "metadata": {
        "id": "F9RSpj3DN6aX",
        "colab": {
          "base_uri": "https://localhost:8080/"
        },
        "outputId": "a6ef914f-cd8a-45ac-e9eb-fdeb9fb4dddf"
      },
      "source": [
        "#We want to use StringIndexer to convert userID and track to unique, integer values\n",
        "#StringIndexer encodes a string column of labels to a column of label indices\n",
        "old_strindexer = [StringIndexer(inputCol = col, outputCol = col + '_index').fit(df_listenings_agg) for col in list(set(df_listenings_agg.columns)- set(['count']))]\n",
        "indexer = [curr_strindexer.setHandleInvalid(\"keep\") for curr_strindexer in old_strindexer]\n",
        "pipeline = Pipeline(stages = indexer)\n",
        "#the dataframe will be called data\n",
        "#Transformers convert one dataframe into another either by updating the current values of a particular column (like converting categorical columns to numeric) or mapping it to some other values by using a defined logic.\n",
        "#An Estimator implements the fit() method on a dataframe and produces a model.\n",
        "data = pipeline.fit(df_listenings_agg).transform(df_listenings_agg)\n",
        "data.show()"
      ],
      "execution_count": 13,
      "outputs": [
        {
          "output_type": "stream",
          "name": "stdout",
          "text": [
            "+-------+--------------------+-----+-------------+-----------+\n",
            "|user_id|               track|count|user_id_index|track_index|\n",
            "+-------+--------------------+-----+-------------+-----------+\n",
            "| --Seph|          Nightmares|    1|         69.0|    10600.0|\n",
            "| --Seph|Virus (Luke Fair ...|    1|         69.0|    15893.0|\n",
            "| --Seph|Airplanes [feat H...|    1|         69.0|      521.0|\n",
            "| --Seph|Belina (Original ...|    1|         69.0|     3280.0|\n",
            "| --Seph|              Monday|    1|         69.0|      334.0|\n",
            "| --Seph|Hungarian Dance No 5|    1|         69.0|     7555.0|\n",
            "| --Seph|       Life On Mars?|    1|         69.0|     1164.0|\n",
            "| --Seph|  California Waiting|    1|         69.0|      195.0|\n",
            "| --Seph|       Phantom Pt II|    1|         69.0|     1378.0|\n",
            "| --Seph|   Summa for Strings|    1|         69.0|    13737.0|\n",
            "| --Seph|      Hour for magic|    2|         69.0|     7492.0|\n",
            "| --Seph|Hungarian Rhapsod...|    1|         69.0|     7556.0|\n",
            "| --Seph|     The Way We Were|    1|         69.0|    14958.0|\n",
            "| --Seph| Air on the G String|    1|         69.0|     2456.0|\n",
            "| --Seph|Vestido Estampado...|    1|         69.0|    15847.0|\n",
            "| --Seph|        Window Blues|    1|         69.0|     1841.0|\n",
            "| --Seph| White Winter Hymnal|    3|         69.0|       59.0|\n",
            "| --Seph|         The Embrace|    1|         69.0|    14386.0|\n",
            "| --Seph|          Paris 2004|    7|         69.0|    11311.0|\n",
            "| --Seph|Chelsea Hotel - L...|    1|         69.0|     4183.0|\n",
            "+-------+--------------------+-----+-------------+-----------+\n",
            "only showing top 20 rows\n",
            "\n"
          ]
        }
      ]
    },
    {
      "cell_type": "code",
      "metadata": {
        "id": "efL-hiR-q-AO"
      },
      "source": [
        "data = data.select('user_id_index', 'track_index', 'count').orderBy('user_id_index')\n",
        "\n"
      ],
      "execution_count": null,
      "outputs": []
    },
    {
      "cell_type": "code",
      "metadata": {
        "id": "OfKtj2ojrKae",
        "colab": {
          "base_uri": "https://localhost:8080/"
        },
        "outputId": "68e84659-dc35-44a8-e6d6-0deff37c7c57"
      },
      "source": [
        "data.show()"
      ],
      "execution_count": null,
      "outputs": [
        {
          "output_type": "stream",
          "name": "stdout",
          "text": [
            "+-------------+-----------+-----+\n",
            "|user_id_index|track_index|count|\n",
            "+-------------+-----------+-----+\n",
            "|          0.0|    10628.0|    1|\n",
            "|          0.0|     3338.0|    1|\n",
            "|          0.0|    12168.0|    1|\n",
            "|          0.0|    11626.0|    2|\n",
            "|          0.0|    10094.0|    4|\n",
            "|          0.0|      427.0|    1|\n",
            "|          0.0|    16878.0|    1|\n",
            "|          0.0|    11722.0|    1|\n",
            "|          0.0|    15074.0|    1|\n",
            "|          0.0|     1359.0|    1|\n",
            "|          0.0|     5874.0|    1|\n",
            "|          0.0|    11184.0|    1|\n",
            "|          0.0|     2372.0|    2|\n",
            "|          0.0|    14316.0|    1|\n",
            "|          0.0|     5346.0|    1|\n",
            "|          0.0|    11194.0|    1|\n",
            "|          0.0|     2241.0|    1|\n",
            "|          0.0|     2864.0|    1|\n",
            "|          0.0|     2663.0|    4|\n",
            "|          0.0|     6064.0|    1|\n",
            "+-------------+-----------+-----+\n",
            "only showing top 20 rows\n",
            "\n"
          ]
        }
      ]
    },
    {
      "cell_type": "markdown",
      "metadata": {
        "id": "IEwviAxXsHwN"
      },
      "source": [
        "# Train and Test data"
      ]
    },
    {
      "cell_type": "code",
      "metadata": {
        "id": "DRgu2p-PsYUw"
      },
      "source": [
        "(training, test) = data.randomSplit([0.5,0.5])"
      ],
      "execution_count": null,
      "outputs": []
    },
    {
      "cell_type": "markdown",
      "metadata": {
        "id": "M46wV6Gusdi5"
      },
      "source": [
        "# Let's Create our Model"
      ]
    },
    {
      "cell_type": "code",
      "metadata": {
        "id": "bwPk25M3sfRu",
        "colab": {
          "base_uri": "https://localhost:8080/"
        },
        "outputId": "b68ebc20-67a5-4f23-bfe1-313d9e83b182"
      },
      "source": [
        "\n",
        "\n",
        "USERID = \"user_id_index\"\n",
        "TRACK = \"track_index\"\n",
        "COUNT = \"count\"\n",
        "\n",
        "als = ALS(maxIter = 5, regParam = 0.01, userCol = USERID, itemCol = TRACK, ratingCol = COUNT)\n",
        "# Alternating Least Squares algorithm\n",
        "print(als)\n",
        "model = als.fit(training)\n",
        "\n",
        "predictions = model.transform(test)"
      ],
      "execution_count": null,
      "outputs": [
        {
          "output_type": "stream",
          "name": "stdout",
          "text": [
            "ALS_1a33121ed899\n"
          ]
        }
      ]
    },
    {
      "cell_type": "markdown",
      "metadata": {
        "id": "lqBkLowzsoj8"
      },
      "source": [
        "\n",
        "# Generate top 10 Track recommendations for each user"
      ]
    },
    {
      "cell_type": "code",
      "metadata": {
        "id": "00mtv7XUsZGg"
      },
      "source": [
        "recs = model.recommendForAllUsers(10)"
      ],
      "execution_count": null,
      "outputs": []
    },
    {
      "cell_type": "code",
      "metadata": {
        "id": "_EQnSUh3ncar",
        "colab": {
          "base_uri": "https://localhost:8080/"
        },
        "outputId": "93daaf09-aa6a-4231-d41c-5ca38a08c018"
      },
      "source": [
        "recs.show()"
      ],
      "execution_count": null,
      "outputs": [
        {
          "output_type": "stream",
          "name": "stdout",
          "text": [
            "+-------------+--------------------+\n",
            "|user_id_index|     recommendations|\n",
            "+-------------+--------------------+\n",
            "|            0|[{4460, 17.55068}...|\n",
            "|            1|[{4460, 14.504824...|\n",
            "|            2|[{1808, 7.1139107...|\n",
            "|            3|[{3345, 9.5855255...|\n",
            "|            4|[{7847, 5.9461546...|\n",
            "|            5|[{3345, 8.19309},...|\n",
            "|            6|[{11940, 35.23830...|\n",
            "|            7|[{4460, 14.913336...|\n",
            "|            8|[{461, 11.323953}...|\n",
            "|            9|[{9498, 8.91315},...|\n",
            "|           10|[{84, 15.409278},...|\n",
            "|           11|[{7847, 11.740087...|\n",
            "|           12|[{11940, 19.40975...|\n",
            "|           13|[{7847, 7.0682983...|\n",
            "|           14|[{4460, 30.73787}...|\n",
            "|           15|[{4460, 25.294}, ...|\n",
            "|           16|[{11940, 18.11632...|\n",
            "|           17|[{16968, 9.095592...|\n",
            "|           18|[{11940, 9.351403...|\n",
            "|           19|[{11940, 43.04874...|\n",
            "+-------------+--------------------+\n",
            "only showing top 20 rows\n",
            "\n"
          ]
        }
      ]
    },
    {
      "cell_type": "code",
      "metadata": {
        "id": "stUaAoKpTgqT",
        "colab": {
          "base_uri": "https://localhost:8080/"
        },
        "outputId": "6a20a51d-36a7-4424-d264-ddd693e80ec3"
      },
      "source": [
        "recs.take(1)"
      ],
      "execution_count": null,
      "outputs": [
        {
          "output_type": "execute_result",
          "data": {
            "text/plain": [
              "[Row(user_id_index=0, recommendations=[Row(track_index=4460, rating=17.55068016052246), Row(track_index=1694, rating=14.235849380493164), Row(track_index=120, rating=11.060724258422852), Row(track_index=11940, rating=9.11754322052002), Row(track_index=180, rating=8.364152908325195), Row(track_index=4461, rating=8.100314140319824), Row(track_index=1439, rating=7.11166524887085), Row(track_index=10815, rating=6.750261306762695), Row(track_index=524, rating=6.750261306762695), Row(track_index=14378, rating=5.52789306640625)])]"
            ]
          },
          "metadata": {},
          "execution_count": 47
        }
      ]
    }
  ]
}